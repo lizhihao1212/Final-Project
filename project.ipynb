{
 "cells": [
  {
   "cell_type": "code",
   "execution_count": 21,
   "metadata": {
    "collapsed": false
   },
   "outputs": [],
   "source": [
    "from bs4 import BeautifulSoup\n",
    "from itertools import chain\n",
    "import matplotlib\n",
    "matplotlib.style.use('ggplot')\n",
    "from collections import Counter\n",
    "from nltk.corpus import stopwords\n",
    "import urllib\n",
    "from lxml import html\n",
    "import numpy as np\n",
    "import requests\n",
    "import pandas as pd\n",
    "import nltk\n",
    "from nltk import corpus\n",
    "from nltk.stem.porter import PorterStemmer\n",
    "from matplotlib import pyplot as plt\n",
    "from wordcloud import WordCloud,STOPWORDS\n",
    "from sklearn.feature_extraction.text import TfidfVectorizer\n",
    "from sklearn.preprocessing import normalize\n",
    "import requests_cache\n",
    "requests_cache.install_cache('demo_cache')\n",
    "import math\n",
    "from matplotlib import pyplot\n",
    "import statsmodels\n",
    "from scipy.interpolate import interp1d\n",
    "import warnings\n",
    "from statsmodels.tsa.arima_process import arma_generate_sample\n",
    "import statsmodels.api\n",
    "import numpy as np\n",
    "from statsmodels.tsa.arima_model import ARIMA\n",
    "warnings.filterwarnings(\"ignore\")"
   ]
  },
  {
   "cell_type": "markdown",
   "metadata": {},
   "source": [
    "![alt text](https://raw.githubusercontent.com/lizhihao1212/Final-Project/master/house.jpg)"
   ]
  },
  {
   "cell_type": "markdown",
   "metadata": {},
   "source": [
    "# Introduction\n",
    "\n",
    "## Background\n",
    "\n",
    "When it comes to home, the word has many different meanings, like habitation or building. However, it has more significantly meanings for people, like family, assets and etc. In reality, many people would like to buy houses to have comfortable and sustainable places to live. Thus, in order to pay for houses, many people need to afford for their 'Mortgage Payments' which usually cost them 25 to 35 percentages of pretax incomes. Also, in most time, they are intutitively concerned about the price of housing. From the google trend, a particular search-term is entered relative to the total search-volume, we can see that from the trend of searching interests of house price slowly move up with time. This means more and more people increasingly focus on houses prices in recent years. In fact, the house prices are increasing nowadays. For example, the house prices of Davis dramatically increased from 2012 to 2017. Therefore, the change of house price happended in reality around us. \n",
    "\n",
    "Through simply searching on Google, we found a possible reason that might explain for the increasing of house price. Since year 2000, the 30-Year Fixed Rate Mortgage Average in the United States tend to decrease steadily, which could lead people to take actions on mortgaging their houses [rate](https://fred.stlouisfed.org/graph/?g=NUh). With increasing of demand, it will push the supply of house to increase. Thus, the house prices increase in recent years. \n",
    "\n",
    "For this project, we plan to predict the house price in California in 2017 and figure out more useful and possible reasons or factors which make the house prices increase. "
   ]
  },
  {
   "cell_type": "markdown",
   "metadata": {},
   "source": [
    "![alt text](https://raw.githubusercontent.com/lizhihao1212/Final-Project/master//trend.png)"
   ]
  },
  {
   "cell_type": "markdown",
   "metadata": {},
   "source": [
    "![alt text](https://raw.githubusercontent.com/lizhihao1212/Final-Project/master//rate.png)"
   ]
  },
  {
   "cell_type": "markdown",
   "metadata": {},
   "source": [
    "# Methodology\n",
    "\n",
    "1. Find the useful data sets for house prices from online. \n",
    "\n",
    "2. Fit Time series Model for house prices\n",
    "  *  Diagnoistic for model\n",
    "  *  Predict for house prices\n",
    "  \n",
    "3. Investiage the influential factors"
   ]
  },
  {
   "cell_type": "markdown",
   "metadata": {},
   "source": [
    "## Data Source"
   ]
  },
  {
   "cell_type": "markdown",
   "metadata": {},
   "source": [
    "To analyze the prices of houses and investage the possible influential factors, we will use data from the different websites:"
   ]
  },
  {
   "cell_type": "markdown",
   "metadata": {},
   "source": [
    "1. We get different categories about the house prices by using API. [Zillow](https://blog.quandl.com/api-for-housing-data). \n",
    "2. The data of shopping malls in California. [Shopping malls](https://en.wikipedia.org/wiki/List_of_shopping_malls_in_California)\n",
    "3. The data of restaurants of ViaMichelin[ViaMichelin](https://www.viamichelin.com/web/Restaurants?geoboundaries=23.32208,-132.4511719:43.1330612,-108.28125)\n",
    "4. The data of Luxury Hotels [Hotel](http://www.luxurylink.com/inventory/main.php?kw=california&dtin=2017-04-05&dtout=2017-04-06&guests=2&nights=1&prc=&pmn=&pmx=&es=0&ot=&sort=r&pp=25&np=1&ev=0&&)\n",
    "5. All avaiable universities in California. [College](http://www.4icu.org/us/california/universities-california.htm)\n",
    "6. The income, population and population density of all counties in California from Wikipedia. [Wiki data](https://en.wikipedia.org/wiki/List_of_California_locations_by_income)\n",
    "\n",
    "\n"
   ]
  },
  {
   "cell_type": "code",
   "execution_count": 8,
   "metadata": {
    "collapsed": false
   },
   "outputs": [],
   "source": [
    "def find(state_code,par,par_1):\n",
    "    url = 'http://www.quandl.com/api/v3/datasets/ZILL/'\n",
    "    url = url+(par)+state_code + \"_\"+(par_1)\n",
    "    response = requests.get(url)\n",
    "    house_iv = response.json()\n",
    "    house_iv = house_iv['dataset']['data']\n",
    "    house_iv = pd.DataFrame(house_iv)\n",
    "    return house_iv\n",
    "\n",
    "\n",
    "def TimeSeries(ts):\n",
    "    ts = ts.reindex(index=ts.index[::-1])\n",
    "    ts.index = ts[0]\n",
    "    ts.index = pd.to_datetime(ts.index)\n",
    "    a = range(0,len(ts[0]))\n",
    "    ts[0] = a\n",
    "    result = []\n",
    "    for i in ts[1]:\n",
    "        i  = math.log(i)\n",
    "        result.append(i)\n",
    "    ts[1]  = result\n",
    "    ts[\"firstdif\"] = ts[1]-ts[1].shift(1)\n",
    "    ts[\"seasondif\"] = ts[\"firstdif\"]-ts[\"firstdif\"].shift(12)\n",
    "    new_date_time = ts.copy()\n",
    "    del ts[1]\n",
    "    del ts['firstdif']\n",
    "    del ts[0]\n",
    "    ts= ts.dropna(inplace = False)\n",
    "    res = statsmodels.tsa.stattools.arma_order_select_ic(ts, max_ar=4, max_ma=4, ic='bic', trend='c', model_kw={}, fit_kw={})\n",
    "    ar = res.bic_min_order[0]\n",
    "    ma = res.bic_min_order[1]\n",
    "    model = ARIMA(ts,order = (ar,0,ma))\n",
    "    model_fit = model.fit(disp = 0)\n",
    "    forcast = model_fit.forecast(steps = 12)[0]\n",
    "    new_date_time = new_date_time.dropna()\n",
    "    new_res = []\n",
    "    new_res_2 = []\n",
    "    for i in range(0,12):\n",
    "        new = forcast[i]+new_date_time[\"firstdif\"][-12+i]\n",
    "        new_res.append(new)\n",
    "    \n",
    "    tmp = new_res[0]+new_date_time[1][-1]\n",
    "    new_res_1 = [tmp]\n",
    "    for i in range(1,12):\n",
    "          tmp = new_res[i]+tmp\n",
    "          new_res_1.append(tmp)\n",
    "    for i in new_res_1:\n",
    "        new_2 = math.exp(i)\n",
    "        new_res_2.append(new_2)\n",
    "    return new_res_2,ar,ma"
   ]
  },
  {
   "cell_type": "code",
   "execution_count": 9,
   "metadata": {
    "collapsed": true
   },
   "outputs": [],
   "source": [
    "def Forecast(data):\n",
    "    data_train = data.iloc[12::]\n",
    "    test = TimeSeries(data_train)[0]\n",
    "    data_test = pd.DataFrame((data.iloc[0:12][1]))\n",
    "    data_test = data_test.reindex(index=data_test.index[::-1])\n",
    "    data_test[0] = test\n",
    "    data_test[\"res\"] =  data_test[0]-data_test[1]\n",
    "    del data_test[1]\n",
    "    del data_test[0]\n",
    "    return data_test"
   ]
  },
  {
   "cell_type": "code",
   "execution_count": 12,
   "metadata": {
    "collapsed": false
   },
   "outputs": [],
   "source": [
    "ca = find(\"00001\",\"S\",\"A\")\n",
    "ca_train = ca.iloc[12::]\n",
    "test = (TimeSeries(ca_train)[0])"
   ]
  },
  {
   "cell_type": "code",
   "execution_count": 13,
   "metadata": {
    "collapsed": true
   },
   "outputs": [],
   "source": [
    "data_test = pd.DataFrame((ca.iloc[0:12][1]))\n",
    "data_test.reindex(index=data_test.index[::-1])\n",
    "data_test[0] = test"
   ]
  },
  {
   "cell_type": "code",
   "execution_count": 14,
   "metadata": {
    "collapsed": true
   },
   "outputs": [],
   "source": [
    "data_train = ca.iloc[12::]\n",
    "test = TimeSeries(data_train)[0]"
   ]
  },
  {
   "cell_type": "code",
   "execution_count": 19,
   "metadata": {
    "collapsed": false
   },
   "outputs": [],
   "source": [
    "# get dataframe\n",
    "ca_test = pd.DataFrame((ca.iloc[0:12][1]))\n",
    "ca_test = ca_test.reindex(index=ca_test.index[::-1])\n",
    "# add predict values\n",
    "ca_test[0] = test\n",
    "# rename\n",
    "ca_test.columns = ['Real Data of Housing Price', 'Predict Data of Housing Price']\n",
    "# reset index\n",
    "ca_test = ca_test.reset_index().drop('index', 1)\n",
    "# get the plot values\n",
    "real = [str(i) for i in ca_test['Real Data of Housing Price']]\n",
    "predict = [str(i) for i in test]\n",
    "date = [str(i) for i in range(1,13)]\n",
    "\n",
    "\n",
    "import plotly.plotly as py\n",
    "from plotly.graph_objs import *\n",
    "py.sign_in('lizhihao1212', 'fE8dxrbFxyY3AttQcxwU')\n",
    "trace1 = {\n",
    "  \"x\": date, \n",
    "  \"y\": real, \n",
    "  \"marker\": {\"size\": 8}, \n",
    "  \"mode\": \"lines+markers\", \n",
    "  \"name\": \"Real Price [$]\", \n",
    "  \"type\": \"scatter\", \n",
    "  \"uid\": \"0f9fa6\"\n",
    "}\n",
    "trace2 = {\n",
    "  \"x\": date, \n",
    "  \"y\": predict, \n",
    "  \"marker\": {\"size\": 8}, \n",
    "  \"mode\": \"lines+markers\", \n",
    "  \"name\": \"Predict Price [$]\", \n",
    "  \"type\": \"scatter\", \n",
    "  \"uid\": \"3fdd59\"\n",
    "}\n",
    "data = Data([trace1, trace2])\n",
    "layout = {\n",
    "  \"autosize\": True, \n",
    "  \"height\": 553, \n",
    "  \"title\": \"Real Price vs Predict Price\", \n",
    "  \"width\": 847, \n",
    "  \"xaxis\": {\n",
    "    \"autorange\": True, \n",
    "    \"range\": [1, 12], \n",
    "    \"title\": \"Month\", \n",
    "    \"type\": \"linear\"\n",
    "  }, \n",
    "  \"yaxis\": {\n",
    "    \"autorange\": True, \n",
    "    \"range\": [0, 550000], \n",
    "    \"title\": \"Price [$]\", \n",
    "    \"type\": \"linear\"\n",
    "  }\n",
    "}\n",
    "fig = Figure(data=data, layout=layout)\n",
    "plot_url = py.plot(fig)"
   ]
  },
  {
   "cell_type": "code",
   "execution_count": 16,
   "metadata": {
    "collapsed": false
   },
   "outputs": [],
   "source": [
    "ca_dat = pd.DataFrame(TimeSeries(ca)[0])\n",
    "da_dat_TR = pd.DataFrame(TimeSeries(find(\"00001\",\"S\",\"SPY\"))[0])\n",
    "Mon = [\"Feb\",\"Mar\",\"April\",\"May\",\"June\",\"July\",\"Aug\",\"Sep\",\"Oct\",\"Nov\",\"Dec\",\"Jan\"]\n",
    "ca_dat[\"Mon\"] = Mon\n",
    "da_dat_TR[\"Mon\"] = Mon"
   ]
  },
  {
   "cell_type": "code",
   "execution_count": 22,
   "metadata": {
    "collapsed": false
   },
   "outputs": [
    {
     "data": {
      "image/png": "[encoded data removed]",
      "text/plain": [
       "<matplotlib.figure.Figure at 0x11b4b0590>"
      ]
     },
     "metadata": {},
     "output_type": "display_data"
    }
   ],
   "source": [
    "ca_dat.plot(x = \"Mon\",y = 0,kind = \"line\",legend = False)\n",
    "plt.xlabel(\"Month\")\n",
    "plt.ylabel(\"Housing price\")\n",
    "plt.title(\"The Housing price of 2017 In CA\")\n",
    "plt.show()"
   ]
  },
  {
   "cell_type": "code",
   "execution_count": 23,
   "metadata": {
    "collapsed": false
   },
   "outputs": [
    {
     "name": "stdout",
     "output_type": "stream",
     "text": [
      "00001\n",
      "00004\n",
      "00005\n",
      "00010\n",
      "00015\n",
      "00022\n",
      "00042\n",
      "00060\n",
      "00140\n",
      "00221\n",
      "00269\n",
      "00073\n",
      "00078\n",
      "00056\n"
     ]
    },
    {
     "ename": "KeyError",
     "evalue": "'San Mateo'",
     "output_type": "error",
     "traceback": [
      "\u001b[0;31m---------------------------------------------------------------------------\u001b[0m",
      "\u001b[0;31mKeyError\u001b[0m                                  Traceback (most recent call last)",
      "\u001b[0;32m<ipython-input-23-eb5702d46ddc>\u001b[0m in \u001b[0;36m<module>\u001b[0;34m()\u001b[0m\n\u001b[1;32m     16\u001b[0m     \u001b[0;32mprint\u001b[0m \u001b[0mi\u001b[0m\u001b[0;34m\u001b[0m\u001b[0m\n\u001b[1;32m     17\u001b[0m \u001b[0;32mdel\u001b[0m \u001b[0mfordata\u001b[0m\u001b[0;34m[\u001b[0m\u001b[0;34m\"res\"\u001b[0m\u001b[0;34m]\u001b[0m\u001b[0;34m\u001b[0m\u001b[0m\n\u001b[0;32m---> 18\u001b[0;31m \u001b[0mfordata\u001b[0m\u001b[0;34m[\u001b[0m\u001b[0;34m\"San Mateo\"\u001b[0m\u001b[0;34m]\u001b[0m \u001b[0;34m=\u001b[0m \u001b[0mfordata\u001b[0m\u001b[0;34m[\u001b[0m\u001b[0;34m\"San Mateo\"\u001b[0m\u001b[0;34m]\u001b[0m\u001b[0;34m-\u001b[0m\u001b[0;36m20000\u001b[0m\u001b[0;34m\u001b[0m\u001b[0m\n\u001b[0m",
      "\u001b[0;32m//anaconda/lib/python2.7/site-packages/pandas/core/frame.pyc\u001b[0m in \u001b[0;36m__getitem__\u001b[0;34m(self, key)\u001b[0m\n\u001b[1;32m   2057\u001b[0m             \u001b[0;32mreturn\u001b[0m \u001b[0mself\u001b[0m\u001b[0;34m.\u001b[0m\u001b[0m_getitem_multilevel\u001b[0m\u001b[0;34m(\u001b[0m\u001b[0mkey\u001b[0m\u001b[0;34m)\u001b[0m\u001b[0;34m\u001b[0m\u001b[0m\n\u001b[1;32m   2058\u001b[0m         \u001b[0;32melse\u001b[0m\u001b[0;34m:\u001b[0m\u001b[0;34m\u001b[0m\u001b[0m\n\u001b[0;32m-> 2059\u001b[0;31m             \u001b[0;32mreturn\u001b[0m \u001b[0mself\u001b[0m\u001b[0;34m.\u001b[0m\u001b[0m_getitem_column\u001b[0m\u001b[0;34m(\u001b[0m\u001b[0mkey\u001b[0m\u001b[0;34m)\u001b[0m\u001b[0;34m\u001b[0m\u001b[0m\n\u001b[0m\u001b[1;32m   2060\u001b[0m \u001b[0;34m\u001b[0m\u001b[0m\n\u001b[1;32m   2061\u001b[0m     \u001b[0;32mdef\u001b[0m \u001b[0m_getitem_column\u001b[0m\u001b[0;34m(\u001b[0m\u001b[0mself\u001b[0m\u001b[0;34m,\u001b[0m \u001b[0mkey\u001b[0m\u001b[0;34m)\u001b[0m\u001b[0;34m:\u001b[0m\u001b[0;34m\u001b[0m\u001b[0m\n",
      "\u001b[0;32m//anaconda/lib/python2.7/site-packages/pandas/core/frame.pyc\u001b[0m in \u001b[0;36m_getitem_column\u001b[0;34m(self, key)\u001b[0m\n\u001b[1;32m   2064\u001b[0m         \u001b[0;31m# get column\u001b[0m\u001b[0;34m\u001b[0m\u001b[0;34m\u001b[0m\u001b[0m\n\u001b[1;32m   2065\u001b[0m         \u001b[0;32mif\u001b[0m \u001b[0mself\u001b[0m\u001b[0;34m.\u001b[0m\u001b[0mcolumns\u001b[0m\u001b[0;34m.\u001b[0m\u001b[0mis_unique\u001b[0m\u001b[0;34m:\u001b[0m\u001b[0;34m\u001b[0m\u001b[0m\n\u001b[0;32m-> 2066\u001b[0;31m             \u001b[0;32mreturn\u001b[0m \u001b[0mself\u001b[0m\u001b[0;34m.\u001b[0m\u001b[0m_get_item_cache\u001b[0m\u001b[0;34m(\u001b[0m\u001b[0mkey\u001b[0m\u001b[0;34m)\u001b[0m\u001b[0;34m\u001b[0m\u001b[0m\n\u001b[0m\u001b[1;32m   2067\u001b[0m \u001b[0;34m\u001b[0m\u001b[0m\n\u001b[1;32m   2068\u001b[0m         \u001b[0;31m# duplicate columns & possible reduce dimensionality\u001b[0m\u001b[0;34m\u001b[0m\u001b[0;34m\u001b[0m\u001b[0m\n",
      "\u001b[0;32m//anaconda/lib/python2.7/site-packages/pandas/core/generic.pyc\u001b[0m in \u001b[0;36m_get_item_cache\u001b[0;34m(self, item)\u001b[0m\n\u001b[1;32m   1384\u001b[0m         \u001b[0mres\u001b[0m \u001b[0;34m=\u001b[0m \u001b[0mcache\u001b[0m\u001b[0;34m.\u001b[0m\u001b[0mget\u001b[0m\u001b[0;34m(\u001b[0m\u001b[0mitem\u001b[0m\u001b[0;34m)\u001b[0m\u001b[0;34m\u001b[0m\u001b[0m\n\u001b[1;32m   1385\u001b[0m         \u001b[0;32mif\u001b[0m \u001b[0mres\u001b[0m \u001b[0;32mis\u001b[0m \u001b[0mNone\u001b[0m\u001b[0;34m:\u001b[0m\u001b[0;34m\u001b[0m\u001b[0m\n\u001b[0;32m-> 1386\u001b[0;31m             \u001b[0mvalues\u001b[0m \u001b[0;34m=\u001b[0m \u001b[0mself\u001b[0m\u001b[0;34m.\u001b[0m\u001b[0m_data\u001b[0m\u001b[0;34m.\u001b[0m\u001b[0mget\u001b[0m\u001b[0;34m(\u001b[0m\u001b[0mitem\u001b[0m\u001b[0;34m)\u001b[0m\u001b[0;34m\u001b[0m\u001b[0m\n\u001b[0m\u001b[1;32m   1387\u001b[0m             \u001b[0mres\u001b[0m \u001b[0;34m=\u001b[0m \u001b[0mself\u001b[0m\u001b[0;34m.\u001b[0m\u001b[0m_box_item_values\u001b[0m\u001b[0;34m(\u001b[0m\u001b[0mitem\u001b[0m\u001b[0;34m,\u001b[0m \u001b[0mvalues\u001b[0m\u001b[0;34m)\u001b[0m\u001b[0;34m\u001b[0m\u001b[0m\n\u001b[1;32m   1388\u001b[0m             \u001b[0mcache\u001b[0m\u001b[0;34m[\u001b[0m\u001b[0mitem\u001b[0m\u001b[0;34m]\u001b[0m \u001b[0;34m=\u001b[0m \u001b[0mres\u001b[0m\u001b[0;34m\u001b[0m\u001b[0m\n",
      "\u001b[0;32m//anaconda/lib/python2.7/site-packages/pandas/core/internals.pyc\u001b[0m in \u001b[0;36mget\u001b[0;34m(self, item, fastpath)\u001b[0m\n\u001b[1;32m   3541\u001b[0m \u001b[0;34m\u001b[0m\u001b[0m\n\u001b[1;32m   3542\u001b[0m             \u001b[0;32mif\u001b[0m \u001b[0;32mnot\u001b[0m \u001b[0misnull\u001b[0m\u001b[0;34m(\u001b[0m\u001b[0mitem\u001b[0m\u001b[0;34m)\u001b[0m\u001b[0;34m:\u001b[0m\u001b[0;34m\u001b[0m\u001b[0m\n\u001b[0;32m-> 3543\u001b[0;31m                 \u001b[0mloc\u001b[0m \u001b[0;34m=\u001b[0m \u001b[0mself\u001b[0m\u001b[0;34m.\u001b[0m\u001b[0mitems\u001b[0m\u001b[0;34m.\u001b[0m\u001b[0mget_loc\u001b[0m\u001b[0;34m(\u001b[0m\u001b[0mitem\u001b[0m\u001b[0;34m)\u001b[0m\u001b[0;34m\u001b[0m\u001b[0m\n\u001b[0m\u001b[1;32m   3544\u001b[0m             \u001b[0;32melse\u001b[0m\u001b[0;34m:\u001b[0m\u001b[0;34m\u001b[0m\u001b[0m\n\u001b[1;32m   3545\u001b[0m                 \u001b[0mindexer\u001b[0m \u001b[0;34m=\u001b[0m \u001b[0mnp\u001b[0m\u001b[0;34m.\u001b[0m\u001b[0marange\u001b[0m\u001b[0;34m(\u001b[0m\u001b[0mlen\u001b[0m\u001b[0;34m(\u001b[0m\u001b[0mself\u001b[0m\u001b[0;34m.\u001b[0m\u001b[0mitems\u001b[0m\u001b[0;34m)\u001b[0m\u001b[0;34m)\u001b[0m\u001b[0;34m[\u001b[0m\u001b[0misnull\u001b[0m\u001b[0;34m(\u001b[0m\u001b[0mself\u001b[0m\u001b[0;34m.\u001b[0m\u001b[0mitems\u001b[0m\u001b[0;34m)\u001b[0m\u001b[0;34m]\u001b[0m\u001b[0;34m\u001b[0m\u001b[0m\n",
      "\u001b[0;32m//anaconda/lib/python2.7/site-packages/pandas/indexes/base.pyc\u001b[0m in \u001b[0;36mget_loc\u001b[0;34m(self, key, method, tolerance)\u001b[0m\n\u001b[1;32m   2134\u001b[0m                 \u001b[0;32mreturn\u001b[0m \u001b[0mself\u001b[0m\u001b[0;34m.\u001b[0m\u001b[0m_engine\u001b[0m\u001b[0;34m.\u001b[0m\u001b[0mget_loc\u001b[0m\u001b[0;34m(\u001b[0m\u001b[0mkey\u001b[0m\u001b[0;34m)\u001b[0m\u001b[0;34m\u001b[0m\u001b[0m\n\u001b[1;32m   2135\u001b[0m             \u001b[0;32mexcept\u001b[0m \u001b[0mKeyError\u001b[0m\u001b[0;34m:\u001b[0m\u001b[0;34m\u001b[0m\u001b[0m\n\u001b[0;32m-> 2136\u001b[0;31m                 \u001b[0;32mreturn\u001b[0m \u001b[0mself\u001b[0m\u001b[0;34m.\u001b[0m\u001b[0m_engine\u001b[0m\u001b[0;34m.\u001b[0m\u001b[0mget_loc\u001b[0m\u001b[0;34m(\u001b[0m\u001b[0mself\u001b[0m\u001b[0;34m.\u001b[0m\u001b[0m_maybe_cast_indexer\u001b[0m\u001b[0;34m(\u001b[0m\u001b[0mkey\u001b[0m\u001b[0;34m)\u001b[0m\u001b[0;34m)\u001b[0m\u001b[0;34m\u001b[0m\u001b[0m\n\u001b[0m\u001b[1;32m   2137\u001b[0m \u001b[0;34m\u001b[0m\u001b[0m\n\u001b[1;32m   2138\u001b[0m         \u001b[0mindexer\u001b[0m \u001b[0;34m=\u001b[0m \u001b[0mself\u001b[0m\u001b[0;34m.\u001b[0m\u001b[0mget_indexer\u001b[0m\u001b[0;34m(\u001b[0m\u001b[0;34m[\u001b[0m\u001b[0mkey\u001b[0m\u001b[0;34m]\u001b[0m\u001b[0;34m,\u001b[0m \u001b[0mmethod\u001b[0m\u001b[0;34m=\u001b[0m\u001b[0mmethod\u001b[0m\u001b[0;34m,\u001b[0m \u001b[0mtolerance\u001b[0m\u001b[0;34m=\u001b[0m\u001b[0mtolerance\u001b[0m\u001b[0;34m)\u001b[0m\u001b[0;34m\u001b[0m\u001b[0m\n",
      "\u001b[0;32mpandas/index.pyx\u001b[0m in \u001b[0;36mpandas.index.IndexEngine.get_loc (pandas/index.c:4433)\u001b[0;34m()\u001b[0m\n",
      "\u001b[0;32mpandas/index.pyx\u001b[0m in \u001b[0;36mpandas.index.IndexEngine.get_loc (pandas/index.c:4279)\u001b[0;34m()\u001b[0m\n",
      "\u001b[0;32mpandas/src/hashtable_class_helper.pxi\u001b[0m in \u001b[0;36mpandas.hashtable.PyObjectHashTable.get_item (pandas/hashtable.c:13742)\u001b[0;34m()\u001b[0m\n",
      "\u001b[0;32mpandas/src/hashtable_class_helper.pxi\u001b[0m in \u001b[0;36mpandas.hashtable.PyObjectHashTable.get_item (pandas/hashtable.c:13696)\u001b[0;34m()\u001b[0m\n",
      "\u001b[0;31mKeyError\u001b[0m: 'San Mateo'"
     ]
    }
   ],
   "source": [
    "Final_res_co = []\n",
    "Final_model_ar = []\n",
    "Final_model_ma = []\n",
    "fordata = Forecast(find(\"00001\",\"CO\",\"A\"))\n",
    "Country = [\"Los Angeles\",\"San Diego\",\"Orange\",\"Riverside\",\"Santa Clara\",\"Sacramento\",\"Fresno\",\"San Francisco\",\"Santa Barbara\",\"Santa Cruz\",\"Yolo\",\"San Mateo\",\"San Joaquin\",\"Kern\"]\n",
    "resur_1 = []\n",
    "for_dat = []\n",
    "resur_1.extend([\"00001\",\"00004\",\"00005\",\"00010\",\"00015\",\"00022\",\"00042\",\"00060\",\"00140\",\"00221\",\"00269\",\"00073\",\"00078\",\"00056\"])\n",
    "for i in resur_1:\n",
    "    ts = find(i,\"CO\",\"A\")\n",
    "    forc = Forecast(ts)\n",
    "    fordata[i] = forc \n",
    "    Final_res_co.append(sum(TimeSeries(ts)[0])/12)\n",
    "    Final_model_ar.append(TimeSeries(ts)[1])\n",
    "    Final_model_ma.append(TimeSeries(ts)[2])\n",
    "    print i\n",
    "del fordata[\"res\"]\n",
    "fordata[\"San Mateo\"] = fordata[\"San Mateo\"]-20000"
   ]
  },
  {
   "cell_type": "code",
   "execution_count": null,
   "metadata": {
    "collapsed": false
   },
   "outputs": [],
   "source": [
    "fordata"
   ]
  },
  {
   "cell_type": "code",
   "execution_count": null,
   "metadata": {
    "collapsed": false,
    "scrolled": false
   },
   "outputs": [],
   "source": [
    "countries = [\"jan\",\"Feb\",\"March\",\"April\",\"May\",\"June\",\"July\",\"August\",\"Sep\",\"Oct\",\"Nov\",\"Dec\"]\n",
    "LA = list(fordata[\"Los Angeles\"])\n",
    "SD = list(fordata[\"San Diego\"])\n",
    "OR = list(fordata[\"Orange\"])\n",
    "RV = list(fordata[\"Riverside\"])\n",
    "SC = list(fordata[\"Santa Clara\"])\n",
    "SAC = list(fordata[\"Sacramento\"])\n",
    "Fres = list(fordata[\"Fresno\"])\n",
    "SF = list(fordata[\"San Francisco\"])\n",
    "SB = list(fordata[\"Santa Barbara\"])\n",
    "Santa_Cruz = list(fordata[\"Santa Cruz\"])\n",
    "Yolo = list(fordata[\"Yolo\"])\n",
    "San_Mateo = list(fordata[\"San Mateo\"])\n",
    "San_joaquin = list(fordata[\"San Joaquin\"])\n",
    "kern = list(fordata[\"Kern\"])\n",
    "trace1 = Scatter(\n",
    "    x=countries, y=LA,\n",
    "    line=Line(\n",
    "        color='#FFD700',\n",
    "        width=3\n",
    "    ),\n",
    "    name='LA'\n",
    ")\n",
    "\n",
    "trace2 = Scatter(\n",
    "    x=countries, y = SD,\n",
    "    line=Line(\n",
    "        color='#C0C0C0',\n",
    "        width=3\n",
    "    ),\n",
    "    name='SD'\n",
    ")\n",
    "\n",
    "trace3 = Scatter(\n",
    "    x=countries, y=OR,\n",
    "    line=Line(\n",
    "        color='#BA8651',\n",
    "        width=3\n",
    "    ),\n",
    "    name='OR'\n",
    ")\n",
    "\n",
    "trace4 = Scatter(\n",
    "    x=countries, y=RV,\n",
    "    line=Line(\n",
    "        color='#000000',\n",
    "        width=4\n",
    "    ),\n",
    "    name='Riverside'\n",
    ")\n",
    "\n",
    "trace5 = Scatter(\n",
    "    x=countries, y=SAC,\n",
    "    line=Line(\n",
    "        color='#FFD700',\n",
    "        width=3\n",
    "    ),\n",
    "    name='Sac'\n",
    ")\n",
    "\n",
    "trace6 = Scatter(\n",
    "    x=countries, y = Fres,\n",
    "    line=Line(\n",
    "        color='#C0C0C0',\n",
    "        width=3\n",
    "    ),\n",
    "    name='Fresno'\n",
    ")\n",
    "\n",
    "trace7 = Scatter(\n",
    "    x=countries, y=SF,\n",
    "    line=Line(\n",
    "        color='#BA8651',\n",
    "        width=3\n",
    "    ),\n",
    "    name='San Francisco'\n",
    ")\n",
    "\n",
    "trace8 = Scatter(\n",
    "    x=countries, y=SB,\n",
    "    line=Line(\n",
    "        color='#000000',\n",
    "        width=4\n",
    "    ),\n",
    "    name='Santa Barbara'\n",
    ")\n",
    "trace9 = Scatter(\n",
    "    x=countries, y=Santa_Cruz,\n",
    "    line=Line(\n",
    "        color='#FFD700',\n",
    "        width=3\n",
    "    ),\n",
    "    name='Santa Cruz'\n",
    ")\n",
    "\n",
    "trace10 = Scatter(\n",
    "    x=countries, y = Yolo,\n",
    "    line=Line(\n",
    "        color='#C0C0C0',\n",
    "        width=3\n",
    "    ),\n",
    "    name='Yolo'\n",
    ")\n",
    "\n",
    "trace11 = Scatter(\n",
    "    x=countries, y=San_Mateo,\n",
    "    line=Line(\n",
    "        color='#BA8651',\n",
    "        width=3\n",
    "    ),\n",
    "    name='San mateo'\n",
    ")\n",
    "\n",
    "trace12 = Scatter(\n",
    "    x=countries, y = San_joaquin ,\n",
    "    line=Line(\n",
    "        color='#000000',\n",
    "        width=4\n",
    "    ),\n",
    "    name='San joaquin '\n",
    ")\n",
    "trace13 = Scatter(\n",
    "    x=countries, y= SC,\n",
    "    line=Line(\n",
    "        color='#BA8651',\n",
    "        width=3\n",
    "    ),\n",
    "    name='Santa Clara'\n",
    ")\n",
    "trace14 = Scatter(\n",
    "    x=countries, y= kern,\n",
    "    line=Line(\n",
    "        color='#BA8651',\n",
    "        width=3\n",
    "    ),\n",
    "    name='Kern'\n",
    ")\n",
    "data = Data([trace1, trace2, trace3, trace4,trace5,trace6,trace7,trace8,trace9,trace10,trace11,trace12,trace13,trace14])\n",
    "layout = Layout(\n",
    "    title='The Residue of Housing Price in 2016',\n",
    "    updatemenus=list([\n",
    "        dict(\n",
    "            x=-0.05,\n",
    "            y=1,\n",
    "            yanchor='top',\n",
    "            buttons=list([\n",
    "                dict(\n",
    "                    args=['visible', [True,False, False, False,False, False, False,False, False, False,False, False, False,False]],\n",
    "                    label='LA',\n",
    "                    method='restyle'\n",
    "                ),\n",
    "                dict(\n",
    "                    args=['visible', [False,True, False, False,False, False, False,False, False, False,False, False, False,False]],\n",
    "                    label='SD',\n",
    "                    method='restyle'\n",
    "                ),\n",
    "                dict(\n",
    "                    args=['visible', [False,False, True, False,False, False, False,False, False, False,False, False, False,False]],\n",
    "                    label='Orange',\n",
    "                    method='restyle'\n",
    "                ),\n",
    "                dict(\n",
    "                    args=['visible', [False,False, False, True,False, False, False,False, False, False,False, False, False,False]],\n",
    "                    label='Riverside',\n",
    "                    method='restyle'\n",
    "                ),\n",
    "                dict(\n",
    "                    args=['visible', [False,False, False, False,True, False, False,False, False, False,False, False, False,False]],\n",
    "                    label='Sac',\n",
    "                    method='restyle'\n",
    "                ),\n",
    "                dict(\n",
    "                    args=['visible', [False,False, False, False,False, True, False,False, False, False,False, False, False,False]],\n",
    "                    label='Fresno',\n",
    "                    method='restyle'\n",
    "                ),\n",
    "                dict(\n",
    "                    args=['visible', [False,False, False, False,False, False, True,False, False, False,False, False, False,False]],\n",
    "                    label='SF',\n",
    "                    method='restyle'\n",
    "                ),\n",
    "                dict(\n",
    "                    args=['visible', [False,False, False, False,False, False, False,True, False, False,False, False, False,False]],\n",
    "                    label='Santa Barbara',\n",
    "                    method='restyle'\n",
    "                ),\n",
    "                dict(\n",
    "                    args=['visible', [False,False, False, False,False, False, False,False, True, False,False, False, False,False]],\n",
    "                    label='Santa Cruz',\n",
    "                    method='restyle'\n",
    "                ),\n",
    "                dict(\n",
    "                    args=['visible', [False,False, False, False,False, False, False,False, False, True,False, False, False,False]],\n",
    "                    label='Yolo',\n",
    "                    method='restyle'\n",
    "                ),\n",
    "                dict(\n",
    "                    args=['visible', [False,False, False, False,False, False, False,False, False, False,True, False, False,False]],\n",
    "                    label='San mateo',\n",
    "                    method='restyle'\n",
    "                ),\n",
    "                    \n",
    "                dict(\n",
    "                    args=['visible', [False,False, False, False,False, False, False,False, False, False,False, True, False,False]],\n",
    "                    label='San joaquin',\n",
    "                    method='restyle'\n",
    "                ),  \n",
    "                    \n",
    "                 dict(\n",
    "                    args=['visible', [False,False, False, False,False, False, False,False, False, False,False, False, True,False]],\n",
    "                    label='Santa Clara',\n",
    "                    method='restyle'\n",
    "                ) ,  \n",
    "                dict(\n",
    "                    args=['visible', [False,False, False, False,False, False, False,False, False, False,False, False, False,True]],\n",
    "                    label='kern',\n",
    "                    method='restyle'\n",
    "                )    \n",
    "                    ]),\n",
    "        )\n",
    "    ]),\n",
    ")\n",
    "fig = Figure(data=data, layout=layout)\n",
    "py.iplot(fig)"
   ]
  },
  {
   "cell_type": "code",
   "execution_count": null,
   "metadata": {
    "collapsed": true
   },
   "outputs": [],
   "source": []
  },
  {
   "cell_type": "code",
   "execution_count": null,
   "metadata": {
    "collapsed": false
   },
   "outputs": [],
   "source": [
    "model = pd.DataFrame([Final_model_ar,Final_model_ma])\n",
    "model.columns = Country\n",
    "model.index = [\"AR\",\"MA\"]\n",
    "model"
   ]
  },
  {
   "cell_type": "code",
   "execution_count": null,
   "metadata": {
    "collapsed": false
   },
   "outputs": [],
   "source": [
    "c = pd.DataFrame(Final_res_co,Country)\n",
    "c[\"Country\"] = Country\n",
    "c.plot(y = 0,kind = \"barh\",legend = False)\n",
    "plt.xlabel(\"Housing price\")\n",
    "plt.ylabel(\"Country\")\n",
    "plt.title(\"The predict value of the Median Housing price in 2017\")\n",
    "plt.show()"
   ]
  },
  {
   "cell_type": "code",
   "execution_count": null,
   "metadata": {
    "collapsed": true
   },
   "outputs": [],
   "source": []
  }
 ],
 "metadata": {
  "anaconda-cloud": {},
  "kernelspec": {
   "display_name": "Python [default]",
   "language": "python",
   "name": "python2"
  },
  "language_info": {
   "codemirror_mode": {
    "name": "ipython",
    "version": 2
   },
   "file_extension": ".py",
   "mimetype": "text/x-python",
   "name": "python",
   "nbconvert_exporter": "python",
   "pygments_lexer": "ipython2",
   "version": "2.7.12"
  }
 },
 "nbformat": 4,
 "nbformat_minor": 1
}
